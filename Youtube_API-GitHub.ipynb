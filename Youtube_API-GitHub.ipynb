{
 "cells": [
  {
   "cell_type": "code",
   "execution_count": 1,
   "id": "a8ba4d02",
   "metadata": {},
   "outputs": [],
   "source": [
    "#import libraries\n",
    "import requests\n",
    "import pandas as pd\n",
    "import time\n",
    "import psycopg2 as ps\n",
    "import warnings\n",
    "warnings.simplefilter(action='ignore', category=FutureWarning)"
   ]
  },
  {
   "cell_type": "code",
   "execution_count": 2,
   "id": "3ec83aa2",
   "metadata": {},
   "outputs": [],
   "source": [
    "API_KEY = 'xxxxxx' # Find on Slickremix how to get key\n",
    "CHANNEL_ID = 'xxxxx'"
   ]
  },
  {
   "cell_type": "code",
   "execution_count": 3,
   "id": "ce7976f4",
   "metadata": {},
   "outputs": [],
   "source": [
    "def get_video_details(video_id):\n",
    "    \n",
    "    # collecting view, like, dislike, comments count\n",
    "    url_video_stats = \"https://www.googleapis.com/youtube/v3/videos?id=\"+video_id+\"&part=statistics&key=\"+API_KEY\n",
    "    response_video_stats = requests.get(url_video_stats).json()\n",
    "        \n",
    "    view_count = response_video_stats['items'][0]['statistics']['viewCount']\n",
    "    like_count = response_video_stats['items'][0]['statistics']['likeCount']\n",
    "    #dislike_count = response_video_stats['items'][0]['statistics']['dislikeCount'] private as of December 13, 2021\n",
    "    comment_count = response_video_stats['items'][0]['statistics']['commentCount']\n",
    "    \n",
    "    return view_count, like_count, comment_count"
   ]
  },
  {
   "cell_type": "code",
   "execution_count": 4,
   "id": "91603a03",
   "metadata": {
    "scrolled": true
   },
   "outputs": [],
   "source": [
    "def get_videos(df):\n",
    "    pageToken = \"\"\n",
    "    while 1:\n",
    "        url = \"https://www.googleapis.com/youtube/v3/search?key=\"+API_KEY+\"&channelId=\"+CHANNEL_ID+\"&part=snippet,id&order=date&maxResults=10000&\"+pageToken\n",
    "\n",
    "        response = requests.get(url).json()\n",
    "        time.sleep(3) #give it a few second before starting the for loop\n",
    "        \n",
    "        \n",
    "        for video in response['items']:\n",
    "            if video['id']['kind'] == \"youtube#video\":\n",
    "                video_id = video['id']['videoId']\n",
    "                video_title = video['snippet']['title']\n",
    "                video_title = str(video_title).replace(\"&amp;\",\"\")\n",
    "                video_title = str(video_title).replace(\"&#39;\", \"\")\n",
    "                video_title = str(video_title).replace(\"&\", \"\")\n",
    "                upload_date = video['snippet']['publishedAt']\n",
    "                upload_date = str(upload_date).split(\"T\")[0]\n",
    "                view_count, like_count, comment_count = get_video_details(video_id)\n",
    "\n",
    "                df = df.append({'video_id':video_id,'video_title':video_title,\n",
    "                                \"upload_date\":upload_date,\"view_count\":view_count,\n",
    "                                \"like_count\":like_count,\"comment_count\":comment_count},ignore_index=True)\n",
    "        try:\n",
    "            if response['nextPageToken'] != None: #if none, it means it reached the last page and break out of it\n",
    "                pageToken = \"pageToken=\" + response['nextPageToken']\n",
    "\n",
    "        except:\n",
    "            break\n",
    "\n",
    "\n",
    "    return df"
   ]
  },
  {
   "cell_type": "code",
   "execution_count": 5,
   "id": "f16ad882",
   "metadata": {},
   "outputs": [],
   "source": [
    "# build a dataframe\n",
    "df = pd.DataFrame(columns=[\"video_id\", \"video_title\", \"upload_date\", \"view_count\", \"like_count\", \"comment_count\"])\n",
    "\n",
    "df = get_videos(df)"
   ]
  },
  {
   "cell_type": "code",
   "execution_count": 6,
   "id": "2552e1e8",
   "metadata": {},
   "outputs": [
    {
     "data": {
      "text/html": [
       "<div>\n",
       "<style scoped>\n",
       "    .dataframe tbody tr th:only-of-type {\n",
       "        vertical-align: middle;\n",
       "    }\n",
       "\n",
       "    .dataframe tbody tr th {\n",
       "        vertical-align: top;\n",
       "    }\n",
       "\n",
       "    .dataframe thead th {\n",
       "        text-align: right;\n",
       "    }\n",
       "</style>\n",
       "<table border=\"1\" class=\"dataframe\">\n",
       "  <thead>\n",
       "    <tr style=\"text-align: right;\">\n",
       "      <th></th>\n",
       "      <th>video_id</th>\n",
       "      <th>video_title</th>\n",
       "      <th>upload_date</th>\n",
       "      <th>view_count</th>\n",
       "      <th>like_count</th>\n",
       "      <th>comment_count</th>\n",
       "    </tr>\n",
       "  </thead>\n",
       "  <tbody>\n",
       "    <tr>\n",
       "      <th>0</th>\n",
       "      <td>GM-OI7HcCeU</td>\n",
       "      <td>Why 50% of Indians Live North of This Line</td>\n",
       "      <td>2022-11-22</td>\n",
       "      <td>719133</td>\n",
       "      <td>27545</td>\n",
       "      <td>3579</td>\n",
       "    </tr>\n",
       "    <tr>\n",
       "      <th>1</th>\n",
       "      <td>lp0Sxn42TGs</td>\n",
       "      <td>Why Russia Destroyed the Worlds 4th Biggest Lake</td>\n",
       "      <td>2022-11-08</td>\n",
       "      <td>2077001</td>\n",
       "      <td>48734</td>\n",
       "      <td>5613</td>\n",
       "    </tr>\n",
       "    <tr>\n",
       "      <th>2</th>\n",
       "      <td>f1WFrsz4g14</td>\n",
       "      <td>How War in Ukraine is Destroying Russia</td>\n",
       "      <td>2022-10-31</td>\n",
       "      <td>3860367</td>\n",
       "      <td>121482</td>\n",
       "      <td>14204</td>\n",
       "    </tr>\n",
       "    <tr>\n",
       "      <th>3</th>\n",
       "      <td>jjOW6kLEckg</td>\n",
       "      <td>How Libya Built Brand-New Rivers Across the Sa...</td>\n",
       "      <td>2022-10-20</td>\n",
       "      <td>1552236</td>\n",
       "      <td>40307</td>\n",
       "      <td>3167</td>\n",
       "    </tr>\n",
       "    <tr>\n",
       "      <th>4</th>\n",
       "      <td>7NOMj7n6QAM</td>\n",
       "      <td>Why Azerbaijan Will Keep Attacking Armenia</td>\n",
       "      <td>2022-10-15</td>\n",
       "      <td>1800858</td>\n",
       "      <td>64755</td>\n",
       "      <td>10762</td>\n",
       "    </tr>\n",
       "    <tr>\n",
       "      <th>...</th>\n",
       "      <td>...</td>\n",
       "      <td>...</td>\n",
       "      <td>...</td>\n",
       "      <td>...</td>\n",
       "      <td>...</td>\n",
       "      <td>...</td>\n",
       "    </tr>\n",
       "    <tr>\n",
       "      <th>295</th>\n",
       "      <td>9ZZy594n9hY</td>\n",
       "      <td>Brexit Explained: What Could Happen to the UK ...</td>\n",
       "      <td>2016-07-14</td>\n",
       "      <td>756546</td>\n",
       "      <td>11342</td>\n",
       "      <td>2894</td>\n",
       "    </tr>\n",
       "    <tr>\n",
       "      <th>296</th>\n",
       "      <td>Pj9fn4L4Njk</td>\n",
       "      <td>The Real Life Game of Thrones Part 1: Is Great...</td>\n",
       "      <td>2016-05-26</td>\n",
       "      <td>2106245</td>\n",
       "      <td>37386</td>\n",
       "      <td>4485</td>\n",
       "    </tr>\n",
       "    <tr>\n",
       "      <th>297</th>\n",
       "      <td>AsxBalxAqzg</td>\n",
       "      <td>What Does the Spanish Flag Mean?</td>\n",
       "      <td>2016-05-01</td>\n",
       "      <td>1985821</td>\n",
       "      <td>34948</td>\n",
       "      <td>7635</td>\n",
       "    </tr>\n",
       "    <tr>\n",
       "      <th>298</th>\n",
       "      <td>PdFt7TOWq0w</td>\n",
       "      <td>What Does the French Flag Mean?</td>\n",
       "      <td>2016-04-08</td>\n",
       "      <td>2577396</td>\n",
       "      <td>43757</td>\n",
       "      <td>9285</td>\n",
       "    </tr>\n",
       "    <tr>\n",
       "      <th>299</th>\n",
       "      <td>IBhVJf8n_NM</td>\n",
       "      <td>What Does the British Flag Mean?</td>\n",
       "      <td>2016-03-04</td>\n",
       "      <td>1380484</td>\n",
       "      <td>20351</td>\n",
       "      <td>2837</td>\n",
       "    </tr>\n",
       "  </tbody>\n",
       "</table>\n",
       "<p>300 rows × 6 columns</p>\n",
       "</div>"
      ],
      "text/plain": [
       "        video_id                                        video_title  \\\n",
       "0    GM-OI7HcCeU         Why 50% of Indians Live North of This Line   \n",
       "1    lp0Sxn42TGs   Why Russia Destroyed the Worlds 4th Biggest Lake   \n",
       "2    f1WFrsz4g14            How War in Ukraine is Destroying Russia   \n",
       "3    jjOW6kLEckg  How Libya Built Brand-New Rivers Across the Sa...   \n",
       "4    7NOMj7n6QAM         Why Azerbaijan Will Keep Attacking Armenia   \n",
       "..           ...                                                ...   \n",
       "295  9ZZy594n9hY  Brexit Explained: What Could Happen to the UK ...   \n",
       "296  Pj9fn4L4Njk  The Real Life Game of Thrones Part 1: Is Great...   \n",
       "297  AsxBalxAqzg                   What Does the Spanish Flag Mean?   \n",
       "298  PdFt7TOWq0w                    What Does the French Flag Mean?   \n",
       "299  IBhVJf8n_NM                   What Does the British Flag Mean?   \n",
       "\n",
       "    upload_date view_count like_count comment_count  \n",
       "0    2022-11-22     719133      27545          3579  \n",
       "1    2022-11-08    2077001      48734          5613  \n",
       "2    2022-10-31    3860367     121482         14204  \n",
       "3    2022-10-20    1552236      40307          3167  \n",
       "4    2022-10-15    1800858      64755         10762  \n",
       "..          ...        ...        ...           ...  \n",
       "295  2016-07-14     756546      11342          2894  \n",
       "296  2016-05-26    2106245      37386          4485  \n",
       "297  2016-05-01    1985821      34948          7635  \n",
       "298  2016-04-08    2577396      43757          9285  \n",
       "299  2016-03-04    1380484      20351          2837  \n",
       "\n",
       "[300 rows x 6 columns]"
      ]
     },
     "execution_count": 6,
     "metadata": {},
     "output_type": "execute_result"
    }
   ],
   "source": [
    "df"
   ]
  },
  {
   "cell_type": "code",
   "execution_count": 8,
   "id": "fa74caa0",
   "metadata": {},
   "outputs": [],
   "source": [
    "def connect_to_db(host_name, dbname, port, username, password):\n",
    "    try:\n",
    "        conn = ps.connect(host=host_name, database=dbname, user=username, password=password, port=port)\n",
    "    \n",
    "    except ps.OperationalError as e:\n",
    "        raise e\n",
    "    else:\n",
    "        print('Connected!')\n",
    "    return conn"
   ]
  },
  {
   "cell_type": "code",
   "execution_count": 10,
   "id": "91485930",
   "metadata": {},
   "outputs": [],
   "source": [
    "# create table\n",
    "\n",
    "def create_table(curr):\n",
    "    create_table_command = (\"\"\"CREATE TABLE IF NOT EXISTS videos (\n",
    "                    video_id VARCHAR(255) PRIMARY KEY,\n",
    "                    video_title TEXT NOT NULL,\n",
    "                    upload_date DATE NOT NULL DEFAULT CURRENT_DATE,\n",
    "                    view_count INTEGER NOT NULL,\n",
    "                    like_count INTEGER NOT NULL,\n",
    "                    comment_count INTEGER NOT NULL\n",
    "            )\"\"\")\n",
    "    \n",
    "    curr.execute(create_table_command)"
   ]
  },
  {
   "cell_type": "code",
   "execution_count": 21,
   "id": "595cbbef",
   "metadata": {},
   "outputs": [],
   "source": [
    "#check if video exists\n",
    "def check_if_video_exists(curr, video_id):\n",
    "    query = (\"\"\"SELECT video_id FROM VIDEOS WHERE video_id = %s\"\"\")\n",
    "    curr.execute(query, (video_id,))\n",
    "    \n",
    "    return curr.fetchone() is not None # Returns a single row from the table"
   ]
  },
  {
   "cell_type": "code",
   "execution_count": 22,
   "id": "20dce411",
   "metadata": {},
   "outputs": [],
   "source": [
    "#update row if video exists\n",
    "\n",
    "def update_row(curr, video_id, video_title, view_count, like_count, comment_count):\n",
    "    query = (\"\"\"UPDATE videos\n",
    "              SET video_title = %s,\n",
    "                view_count = %s,\n",
    "                like_count = %s,\n",
    "                comment_count = %s\n",
    "              WHERE video_id = %s;\"\"\")\n",
    "    vars_to_update = (video_title, view_count, like_count, comment_count, video_id)\n",
    "    curr.execute(query, vars_to_update)"
   ]
  },
  {
   "cell_type": "code",
   "execution_count": 23,
   "id": "8ba1ff91",
   "metadata": {},
   "outputs": [],
   "source": [
    "#check to see if video exists\n",
    "\n",
    "def update_db(curr,df):\n",
    "    tmp_df = pd.DataFrame(columns=['video_id', 'video_title', 'upload_date', 'view_count',\n",
    "                                   'like_count', 'comment_count'])\n",
    "    for i, row in df.iterrows():\n",
    "        if check_if_video_exists(curr, row['video_id']): # If video already exists then we will update\n",
    "            update_row(curr,row['video_id'],row['video_title'],row['view_count'],row['like_count'],row['comment_count'])\n",
    "        else: # The video doesn't exists so we will add it to a temp df and append it using append_from_df_to_db\n",
    "            tmp_df = tmp_df.append(row)\n",
    "\n",
    "    return tmp_df"
   ]
  },
  {
   "cell_type": "code",
   "execution_count": 29,
   "id": "589e5e91",
   "metadata": {},
   "outputs": [],
   "source": [
    "#write insert command\n",
    "\n",
    "def insert_into_table(curr, video_id, video_title, upload_date, view_count, like_count, comment_count):\n",
    "    insert_into_videos = (\"\"\"INSERT INTO videos (video_id, video_title, upload_date, view_count, like_count, comment_count)\n",
    "    VALUES(%s,%s,%s,%s,%s,%s);\"\"\")\n",
    "    row_to_insert = (video_id, video_title, upload_date, view_count, like_count, comment_count)\n",
    "    curr.execute(insert_into_videos, row_to_insert)"
   ]
  },
  {
   "cell_type": "code",
   "execution_count": 30,
   "id": "b75e0dc0",
   "metadata": {},
   "outputs": [],
   "source": [
    "def append_from_df_to_db(curr,df):\n",
    "    for i, row in df.iterrows():\n",
    "        insert_into_table(curr, row['video_id'], row['video_title'], row['upload_date'],\n",
    "                          row['view_count'], row['like_count'], row['comment_count'])"
   ]
  },
  {
   "cell_type": "code",
   "execution_count": 31,
   "id": "e758686e",
   "metadata": {},
   "outputs": [
    {
     "name": "stdout",
     "output_type": "stream",
     "text": [
      "Connected!\n"
     ]
    }
   ],
   "source": [
    "#database credentials\n",
    "host_name = 'xxxxxx.rds.amazonaws.com'\n",
    "dbname = 'xxxx'\n",
    "port = '5432'\n",
    "username = 'xxxx'\n",
    "password = 'xxxxxxxxx'\n",
    "conn = None\n",
    "\n",
    "conn = connect_to_db(host_name, dbname, port, username, password)"
   ]
  },
  {
   "cell_type": "code",
   "execution_count": 32,
   "id": "4dcf80d2",
   "metadata": {},
   "outputs": [],
   "source": [
    "curr = conn.cursor()"
   ]
  },
  {
   "cell_type": "code",
   "execution_count": 13,
   "id": "b71f1e81",
   "metadata": {},
   "outputs": [],
   "source": [
    "create_table(curr) # Only neeeds to be used once"
   ]
  },
  {
   "cell_type": "code",
   "execution_count": 33,
   "id": "1c5fd7dd",
   "metadata": {},
   "outputs": [],
   "source": [
    "# Update the database table\n",
    "new_vid_df = update_db(curr, df)"
   ]
  },
  {
   "cell_type": "code",
   "execution_count": 35,
   "id": "ee9fa1c3",
   "metadata": {},
   "outputs": [],
   "source": [
    "# Insert new videos into database table\n",
    "append_from_df_to_db(curr, new_vid_df)"
   ]
  },
  {
   "cell_type": "code",
   "execution_count": 36,
   "id": "ee77e66b",
   "metadata": {},
   "outputs": [],
   "source": [
    "conn.commit()"
   ]
  },
  {
   "cell_type": "code",
   "execution_count": null,
   "id": "a8c3412b",
   "metadata": {},
   "outputs": [],
   "source": [
    "# Create a scheduling job to run every week\n",
    "\n",
    "\"\"\" \n",
    "First step is to create a batch file. Open notepad and save a file with .bat extension with your paths:\n",
    "\n",
    "\"C:\\Program Files\\Python37\\python.exe\"\n",
    "\"C:\\your_custom_path\\python_file_name.py\"\n",
    "pause\n",
    "\n",
    "Activate the scheduler:\n",
    "\n",
    "1.Open Windows Task Scheduler\n",
    "\n",
    "2.In the Action tab choose Create Basic Task\n",
    "\n",
    "3.Click Next and choose the time you want the script to run\n",
    "\n",
    "4.Click Next and in the program/script box enter the path to your python.exe\n",
    "\n",
    "5.In the Add Arguments box enter the name of the python file you’re scheduling\n",
    "\n",
    "6.In the Start In box enter the path the to python file\n",
    "\n",
    "\"\"\""
   ]
  }
 ],
 "metadata": {
  "kernelspec": {
   "display_name": "Python 3 (ipykernel)",
   "language": "python",
   "name": "python3"
  },
  "language_info": {
   "codemirror_mode": {
    "name": "ipython",
    "version": 3
   },
   "file_extension": ".py",
   "mimetype": "text/x-python",
   "name": "python",
   "nbconvert_exporter": "python",
   "pygments_lexer": "ipython3",
   "version": "3.8.13"
  }
 },
 "nbformat": 4,
 "nbformat_minor": 5
}
